{
 "cells": [
  {
   "cell_type": "code",
   "execution_count": null,
   "metadata": {},
   "outputs": [],
   "source": [
    "import os\n",
    "import json\n",
    "import cv2\n",
    "import nbimporter\n",
    "import import_ipynb\n",
    "import traffic_sign_detection as tsd\n"
   ]
  },
  {
   "cell_type": "code",
   "execution_count": null,
   "metadata": {},
   "outputs": [],
   "source": [
    "## Test Phase\n",
    "import os\n",
    "import json\n",
    "\n",
    "try:\n",
    "    with open('thresholds.json', 'r') as f:\n",
    "        thresholds = json.load(f)\n",
    "except FileNotFoundError:\n",
    "    print(\"Error: 'thresholds.json' file not found.\")\n",
    "    exit\n",
    "\n",
    "    # Extract thresholds\n",
    "SAVED_THRESHOLDS = {\n",
    "    'h_min': thresholds.get('h_min', 0),\n",
    "    'h_max': thresholds.get('h_max', 180),\n",
    "    's_min': thresholds.get('s_min', 0),\n",
    "    's_max': thresholds.get('s_max', 255),\n",
    "    'v_min': thresholds.get('v_min', 0),\n",
    "    'v_max': thresholds.get('v_max', 255),\n",
    "    'dilation_size': thresholds.get('dilation_size', 5),\n",
    "    'min_area': thresholds.get('min_area', 100),\n",
    "    'max_area': thresholds.get('max_area', 10000)\n",
    "}\n",
    "\n",
    "def test_images_in_folder(folder_path = 'assets/test', thresholds = SAVED_THRESHOLDS):\n",
    "    image_files = [f for f in os.listdir(folder_path) if f.lower().endswith(('.png', '.jpg', '.jpeg'))]\n",
    "    \n",
    "    for image_file in image_files:\n",
    "        image_path = os.path.join(folder_path, image_file)\n",
    "        bgr_image = cv2.imread(image_path)\n",
    "        if bgr_image is None:\n",
    "            print(f\"Failed to read image: {image_path}\")\n",
    "            continue\n",
    "        \n",
    "        # Convert to HSV\n",
    "        hsv_image = cv2.cvtColor(bgr_image, cv2.COLOR_BGR2HSV)\n",
    "\n",
    "        print(f\"\\nProcessing: {image_file}\")\n",
    "        print(\"Used HSV Thresholds:\")\n",
    "        print(f\"Hue: [{thresholds['h_min']}, {thresholds['h_max']}]\")\n",
    "        print(f\"Saturation: [{thresholds['s_min']}, {thresholds['s_max']}]\")\n",
    "        print(f\"Value: [{thresholds['v_min']}, {thresholds['v_max']}]\")\n",
    "        print(f\"Dilation Size: {thresholds['dilation_size']}\")\n",
    "        print(f\"Area Range: [{thresholds['min_area']}, {thresholds['max_area']}]\")\n",
    "\n",
    "        # Run your main processing function\n",
    "        detected_signs = tsd.process_image(\n",
    "            hsv_image,\n",
    "            thresholds['h_min'], thresholds['h_max'],\n",
    "            thresholds['s_min'], thresholds['s_max'],\n",
    "            thresholds['v_min'], thresholds['v_max'],\n",
    "            thresholds['dilation_size'],\n",
    "            thresholds['min_area'], thresholds['max_area']\n",
    "        )\n",
    "\n",
    "\n",
    "test_images_in_folder()"
   ]
  }
 ],
 "metadata": {
  "kernelspec": {
   "display_name": "Python 3",
   "language": "python",
   "name": "python3"
  },
  "language_info": {
   "codemirror_mode": {
    "name": "ipython",
    "version": 3
   },
   "file_extension": ".py",
   "mimetype": "text/x-python",
   "name": "python",
   "nbconvert_exporter": "python",
   "pygments_lexer": "ipython3",
   "version": "3.12.3"
  }
 },
 "nbformat": 4,
 "nbformat_minor": 2
}
